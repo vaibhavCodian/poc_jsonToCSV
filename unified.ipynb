{
 "cells": [
  {
   "cell_type": "code",
   "execution_count": 65,
   "id": "e18ebfce",
   "metadata": {},
   "outputs": [],
   "source": [
    "import json\n",
    "import pandas as pd\n",
    "import numpy as np"
   ]
  },
  {
   "cell_type": "code",
   "execution_count": 68,
   "id": "cfde4ae1",
   "metadata": {},
   "outputs": [
    {
     "data": {
      "text/plain": [
       "[{'first_name': 'Vaibhav',\n",
       "  'last_name': 'Shukla',\n",
       "  'email': 'vaibhavshukla.try@gmail.com',\n",
       "  'occupation': 'developer'},\n",
       " {'first_name': 'Shankar',\n",
       "  'last_name': 'Shekhawat',\n",
       "  'email': 'shankar.shaikhawat@gmail.com',\n",
       "  'occupation': 'customer support'}]"
      ]
     },
     "execution_count": 68,
     "metadata": {},
     "output_type": "execute_result"
    }
   ],
   "source": [
    "data = json.load(open(\"response.json\"))\n",
    "data[\"users\"]"
   ]
  },
  {
   "cell_type": "code",
   "execution_count": 69,
   "id": "7674d376",
   "metadata": {},
   "outputs": [],
   "source": [
    "users = pd.json_normalize(data, \"users\")\n",
    "companies = pd.json_normalize(data, \"companies\")"
   ]
  },
  {
   "cell_type": "code",
   "execution_count": 70,
   "id": "a271d79e",
   "metadata": {},
   "outputs": [
    {
     "data": {
      "text/html": [
       "<div>\n",
       "<style scoped>\n",
       "    .dataframe tbody tr th:only-of-type {\n",
       "        vertical-align: middle;\n",
       "    }\n",
       "\n",
       "    .dataframe tbody tr th {\n",
       "        vertical-align: top;\n",
       "    }\n",
       "\n",
       "    .dataframe thead th {\n",
       "        text-align: right;\n",
       "    }\n",
       "</style>\n",
       "<table border=\"1\" class=\"dataframe\">\n",
       "  <thead>\n",
       "    <tr style=\"text-align: right;\">\n",
       "      <th></th>\n",
       "      <th>company_name</th>\n",
       "      <th>evaluation</th>\n",
       "      <th>email</th>\n",
       "    </tr>\n",
       "  </thead>\n",
       "  <tbody>\n",
       "    <tr>\n",
       "      <th>0</th>\n",
       "      <td>nike</td>\n",
       "      <td>1B$</td>\n",
       "      <td>hello@nike.in</td>\n",
       "    </tr>\n",
       "    <tr>\n",
       "      <th>1</th>\n",
       "      <td>apple</td>\n",
       "      <td>1200B$</td>\n",
       "      <td>hello@apple.in</td>\n",
       "    </tr>\n",
       "  </tbody>\n",
       "</table>\n",
       "</div>"
      ],
      "text/plain": [
       "  company_name evaluation           email\n",
       "0         nike        1B$   hello@nike.in\n",
       "1        apple     1200B$  hello@apple.in"
      ]
     },
     "execution_count": 70,
     "metadata": {},
     "output_type": "execute_result"
    }
   ],
   "source": [
    "companies"
   ]
  },
  {
   "cell_type": "code",
   "execution_count": 71,
   "id": "bc9c1849",
   "metadata": {},
   "outputs": [
    {
     "data": {
      "text/html": [
       "<div>\n",
       "<style scoped>\n",
       "    .dataframe tbody tr th:only-of-type {\n",
       "        vertical-align: middle;\n",
       "    }\n",
       "\n",
       "    .dataframe tbody tr th {\n",
       "        vertical-align: top;\n",
       "    }\n",
       "\n",
       "    .dataframe thead th {\n",
       "        text-align: right;\n",
       "    }\n",
       "</style>\n",
       "<table border=\"1\" class=\"dataframe\">\n",
       "  <thead>\n",
       "    <tr style=\"text-align: right;\">\n",
       "      <th></th>\n",
       "      <th></th>\n",
       "      <th>first_name</th>\n",
       "      <th>last_name</th>\n",
       "      <th>email</th>\n",
       "      <th>occupation</th>\n",
       "      <th>company_name</th>\n",
       "      <th>evaluation</th>\n",
       "    </tr>\n",
       "  </thead>\n",
       "  <tbody>\n",
       "    <tr>\n",
       "      <th rowspan=\"2\" valign=\"top\">users</th>\n",
       "      <th>0</th>\n",
       "      <td>Vaibhav</td>\n",
       "      <td>Shukla</td>\n",
       "      <td>vaibhavshukla.try@gmail.com</td>\n",
       "      <td>developer</td>\n",
       "      <td>NaN</td>\n",
       "      <td>NaN</td>\n",
       "    </tr>\n",
       "    <tr>\n",
       "      <th>1</th>\n",
       "      <td>Shankar</td>\n",
       "      <td>Shekhawat</td>\n",
       "      <td>shankar.shaikhawat@gmail.com</td>\n",
       "      <td>customer support</td>\n",
       "      <td>NaN</td>\n",
       "      <td>NaN</td>\n",
       "    </tr>\n",
       "    <tr>\n",
       "      <th rowspan=\"2\" valign=\"top\">companies</th>\n",
       "      <th>0</th>\n",
       "      <td>NaN</td>\n",
       "      <td>NaN</td>\n",
       "      <td>hello@nike.in</td>\n",
       "      <td>NaN</td>\n",
       "      <td>nike</td>\n",
       "      <td>1B$</td>\n",
       "    </tr>\n",
       "    <tr>\n",
       "      <th>1</th>\n",
       "      <td>NaN</td>\n",
       "      <td>NaN</td>\n",
       "      <td>hello@apple.in</td>\n",
       "      <td>NaN</td>\n",
       "      <td>apple</td>\n",
       "      <td>1200B$</td>\n",
       "    </tr>\n",
       "  </tbody>\n",
       "</table>\n",
       "</div>"
      ],
      "text/plain": [
       "            first_name  last_name                         email  \\\n",
       "users     0    Vaibhav     Shukla   vaibhavshukla.try@gmail.com   \n",
       "          1    Shankar  Shekhawat  shankar.shaikhawat@gmail.com   \n",
       "companies 0        NaN        NaN                 hello@nike.in   \n",
       "          1        NaN        NaN                hello@apple.in   \n",
       "\n",
       "                   occupation company_name evaluation  \n",
       "users     0         developer          NaN        NaN  \n",
       "          1  customer support          NaN        NaN  \n",
       "companies 0               NaN         nike        1B$  \n",
       "          1               NaN        apple     1200B$  "
      ]
     },
     "execution_count": 71,
     "metadata": {},
     "output_type": "execute_result"
    }
   ],
   "source": [
    "pd.concat([users, companies], keys=[\"users\", \"companies\"],)\n",
    "# users.append(companies)"
   ]
  },
  {
   "cell_type": "code",
   "execution_count": null,
   "id": "e5496463",
   "metadata": {},
   "outputs": [],
   "source": []
  },
  {
   "cell_type": "code",
   "execution_count": null,
   "id": "7f8c8029",
   "metadata": {},
   "outputs": [],
   "source": []
  },
  {
   "cell_type": "code",
   "execution_count": null,
   "id": "a7c37a2d",
   "metadata": {},
   "outputs": [],
   "source": []
  },
  {
   "cell_type": "code",
   "execution_count": null,
   "id": "7ce69ed9",
   "metadata": {},
   "outputs": [],
   "source": []
  },
  {
   "cell_type": "code",
   "execution_count": null,
   "id": "72537468",
   "metadata": {},
   "outputs": [],
   "source": []
  }
 ],
 "metadata": {
  "kernelspec": {
   "display_name": "Python 3",
   "language": "python",
   "name": "python3"
  },
  "language_info": {
   "codemirror_mode": {
    "name": "ipython",
    "version": 3
   },
   "file_extension": ".py",
   "mimetype": "text/x-python",
   "name": "python",
   "nbconvert_exporter": "python",
   "pygments_lexer": "ipython3",
   "version": "3.8.10"
  }
 },
 "nbformat": 4,
 "nbformat_minor": 5
}
